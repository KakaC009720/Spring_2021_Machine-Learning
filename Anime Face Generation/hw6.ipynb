{
  "nbformat": 4,
  "nbformat_minor": 0,
  "metadata": {
    "colab": {
      "name": "hw6.ipynb",
      "provenance": []
    },
    "kernelspec": {
      "name": "python3",
      "display_name": "Python 3"
    },
    "language_info": {
      "name": "python"
    },
    "accelerator": "GPU"
  },
  "cells": [
    {
      "cell_type": "code",
      "metadata": {
        "colab": {
          "base_uri": "https://localhost:8080/"
        },
        "id": "LJ4UCpg4agLx",
        "outputId": "88f29fbe-af5d-4efe-f615-837f6e2be830"
      },
      "source": [
        "!nvidia-smi"
      ],
      "execution_count": null,
      "outputs": [
        {
          "output_type": "stream",
          "text": [
            "Mon May 10 07:58:08 2021       \n",
            "+-----------------------------------------------------------------------------+\n",
            "| NVIDIA-SMI 465.19.01    Driver Version: 460.32.03    CUDA Version: 11.2     |\n",
            "|-------------------------------+----------------------+----------------------+\n",
            "| GPU  Name        Persistence-M| Bus-Id        Disp.A | Volatile Uncorr. ECC |\n",
            "| Fan  Temp  Perf  Pwr:Usage/Cap|         Memory-Usage | GPU-Util  Compute M. |\n",
            "|                               |                      |               MIG M. |\n",
            "|===============================+======================+======================|\n",
            "|   0  Tesla T4            Off  | 00000000:00:04.0 Off |                    0 |\n",
            "| N/A   68C    P8    12W /  70W |      0MiB / 15109MiB |      0%      Default |\n",
            "|                               |                      |                  N/A |\n",
            "+-------------------------------+----------------------+----------------------+\n",
            "                                                                               \n",
            "+-----------------------------------------------------------------------------+\n",
            "| Processes:                                                                  |\n",
            "|  GPU   GI   CI        PID   Type   Process name                  GPU Memory |\n",
            "|        ID   ID                                                   Usage      |\n",
            "|=============================================================================|\n",
            "|  No running processes found                                                 |\n",
            "+-----------------------------------------------------------------------------+\n"
          ],
          "name": "stdout"
        }
      ]
    },
    {
      "cell_type": "code",
      "metadata": {
        "colab": {
          "base_uri": "https://localhost:8080/"
        },
        "id": "0MJepLiYgmc-",
        "outputId": "4e9aecb4-3d04-4f43-e9ad-d67fe00df925"
      },
      "source": [
        "from google.colab import drive\n",
        "drive.mount('/content/drive')"
      ],
      "execution_count": null,
      "outputs": [
        {
          "output_type": "stream",
          "text": [
            "Mounted at /content/drive\n"
          ],
          "name": "stdout"
        }
      ]
    },
    {
      "cell_type": "markdown",
      "metadata": {
        "id": "0Wa0zvo5i8-7"
      },
      "source": [
        "## Use to count the total number of pictures in the dataset"
      ]
    },
    {
      "cell_type": "code",
      "metadata": {
        "colab": {
          "base_uri": "https://localhost:8080/",
          "height": 352
        },
        "id": "Fza-OIUwYNZv",
        "outputId": "2bc5a16e-ab51-40dc-e853-2fe23c0fe513"
      },
      "source": [
        "import pathlib\n",
        "count = 0\n",
        "for path in pathlib.Path(\"drive/MyDrive/ML2021-hw6/faces\").iterdir():\n",
        "  if path.is_file():\n",
        "    count += 1\n",
        "\n",
        "print(count)"
      ],
      "execution_count": 1,
      "outputs": [
        {
          "output_type": "error",
          "ename": "FileNotFoundError",
          "evalue": "ignored",
          "traceback": [
            "\u001b[0;31m---------------------------------------------------------------------------\u001b[0m",
            "\u001b[0;31mFileNotFoundError\u001b[0m                         Traceback (most recent call last)",
            "\u001b[0;32m<ipython-input-1-d7f9c52adc43>\u001b[0m in \u001b[0;36m<module>\u001b[0;34m()\u001b[0m\n\u001b[1;32m      1\u001b[0m \u001b[0;32mimport\u001b[0m \u001b[0mpathlib\u001b[0m\u001b[0;34m\u001b[0m\u001b[0;34m\u001b[0m\u001b[0m\n\u001b[1;32m      2\u001b[0m \u001b[0mcount\u001b[0m \u001b[0;34m=\u001b[0m \u001b[0;36m0\u001b[0m\u001b[0;34m\u001b[0m\u001b[0;34m\u001b[0m\u001b[0m\n\u001b[0;32m----> 3\u001b[0;31m \u001b[0;32mfor\u001b[0m \u001b[0mpath\u001b[0m \u001b[0;32min\u001b[0m \u001b[0mpathlib\u001b[0m\u001b[0;34m.\u001b[0m\u001b[0mPath\u001b[0m\u001b[0;34m(\u001b[0m\u001b[0;34m\"drive/MyDrive/ML2021-hw6/faces\"\u001b[0m\u001b[0;34m)\u001b[0m\u001b[0;34m.\u001b[0m\u001b[0miterdir\u001b[0m\u001b[0;34m(\u001b[0m\u001b[0;34m)\u001b[0m\u001b[0;34m:\u001b[0m\u001b[0;34m\u001b[0m\u001b[0;34m\u001b[0m\u001b[0m\n\u001b[0m\u001b[1;32m      4\u001b[0m   \u001b[0;32mif\u001b[0m \u001b[0mpath\u001b[0m\u001b[0;34m.\u001b[0m\u001b[0mis_file\u001b[0m\u001b[0;34m(\u001b[0m\u001b[0;34m)\u001b[0m\u001b[0;34m:\u001b[0m\u001b[0;34m\u001b[0m\u001b[0;34m\u001b[0m\u001b[0m\n\u001b[1;32m      5\u001b[0m     \u001b[0mcount\u001b[0m \u001b[0;34m+=\u001b[0m \u001b[0;36m1\u001b[0m\u001b[0;34m\u001b[0m\u001b[0;34m\u001b[0m\u001b[0m\n",
            "\u001b[0;32m/usr/lib/python3.7/pathlib.py\u001b[0m in \u001b[0;36miterdir\u001b[0;34m(self)\u001b[0m\n\u001b[1;32m   1105\u001b[0m         \u001b[0;32mif\u001b[0m \u001b[0mself\u001b[0m\u001b[0;34m.\u001b[0m\u001b[0m_closed\u001b[0m\u001b[0;34m:\u001b[0m\u001b[0;34m\u001b[0m\u001b[0;34m\u001b[0m\u001b[0m\n\u001b[1;32m   1106\u001b[0m             \u001b[0mself\u001b[0m\u001b[0;34m.\u001b[0m\u001b[0m_raise_closed\u001b[0m\u001b[0;34m(\u001b[0m\u001b[0;34m)\u001b[0m\u001b[0;34m\u001b[0m\u001b[0;34m\u001b[0m\u001b[0m\n\u001b[0;32m-> 1107\u001b[0;31m         \u001b[0;32mfor\u001b[0m \u001b[0mname\u001b[0m \u001b[0;32min\u001b[0m \u001b[0mself\u001b[0m\u001b[0;34m.\u001b[0m\u001b[0m_accessor\u001b[0m\u001b[0;34m.\u001b[0m\u001b[0mlistdir\u001b[0m\u001b[0;34m(\u001b[0m\u001b[0mself\u001b[0m\u001b[0;34m)\u001b[0m\u001b[0;34m:\u001b[0m\u001b[0;34m\u001b[0m\u001b[0;34m\u001b[0m\u001b[0m\n\u001b[0m\u001b[1;32m   1108\u001b[0m             \u001b[0;32mif\u001b[0m \u001b[0mname\u001b[0m \u001b[0;32min\u001b[0m \u001b[0;34m{\u001b[0m\u001b[0;34m'.'\u001b[0m\u001b[0;34m,\u001b[0m \u001b[0;34m'..'\u001b[0m\u001b[0;34m}\u001b[0m\u001b[0;34m:\u001b[0m\u001b[0;34m\u001b[0m\u001b[0;34m\u001b[0m\u001b[0m\n\u001b[1;32m   1109\u001b[0m                 \u001b[0;31m# Yielding a path object for these makes little sense\u001b[0m\u001b[0;34m\u001b[0m\u001b[0;34m\u001b[0m\u001b[0;34m\u001b[0m\u001b[0m\n",
            "\u001b[0;31mFileNotFoundError\u001b[0m: [Errno 2] No such file or directory: 'drive/MyDrive/ML2021-hw6/faces'"
          ]
        }
      ]
    },
    {
      "cell_type": "markdown",
      "metadata": {
        "id": "v8lE8q23j3Mj"
      },
      "source": [
        "# Import Packages"
      ]
    },
    {
      "cell_type": "code",
      "metadata": {
        "id": "yMmN3rOGaoxm"
      },
      "source": [
        "! pip install stylegan2_pytorch"
      ],
      "execution_count": null,
      "outputs": []
    },
    {
      "cell_type": "markdown",
      "metadata": {
        "id": "9QB6b7mLkKaU"
      },
      "source": [
        "## Set the path"
      ]
    },
    {
      "cell_type": "code",
      "metadata": {
        "id": "LYd230bnbvvf"
      },
      "source": [
        "datadir = \"/content/drive/MyDrive/ML2021-hw6/faces\"\n",
        "checkdir = \"/content/drive/MyDrive/ML2021-hw6/check-new\"\n",
        "resultdir = \"/content/drive/MyDrive/ML2021-hw6/result-new\"\n",
        "resultdir2 = \"/content/drive/MyDrive/ML2021-hw6/result2\"\n",
        "test = \"/content/drive/MyDrive/ML2021-hw6/test\""
      ],
      "execution_count": null,
      "outputs": []
    },
    {
      "cell_type": "markdown",
      "metadata": {
        "id": "BcnuxAmhkVlz"
      },
      "source": [
        "# Training"
      ]
    },
    {
      "cell_type": "code",
      "metadata": {
        "id": "sfXttjUEk8UV"
      },
      "source": [
        "!stylegan2_pytorch --data \"/content/drive/MyDrive/ML2021-hw6/faces\" --name \"cutie\" --results_dir \"{resultdir}\" --models_dir \"{checkdir}\" --image-size 64 --network-capacity 32"
      ],
      "execution_count": null,
      "outputs": []
    },
    {
      "cell_type": "markdown",
      "metadata": {
        "id": "GqVrNx9Pkcjk"
      },
      "source": [
        "# Generate"
      ]
    },
    {
      "cell_type": "code",
      "metadata": {
        "id": "nx_hU881efz2"
      },
      "source": [
        "for i in range(334):\n",
        "  !stylegan2_pytorch --data \"/content/drive/MyDrive/ML2021-hw6/faces\" --name \"cutie\" --results_dir \"{resultdir2}\" --models_dir \"{checkdir}\" --image-size 64 --generate --num-image-tiles 1"
      ],
      "execution_count": null,
      "outputs": []
    },
    {
      "cell_type": "code",
      "metadata": {
        "id": "IKV7O9MZhe2C"
      },
      "source": [
        "import os, random, shutil\n",
        "\n",
        "\n",
        "def copyFile(fileDir):\n",
        "    # 1\n",
        "\tpathDir = os.listdir(fileDir)\n",
        "\n",
        "    # 2\n",
        "\tsample = random.sample(pathDir, 1000)\n",
        "\tprint(sample)\n",
        "\t\n",
        "\t# 3\n",
        "\tfor name in sample:\n",
        "\t\tshutil.copyfile(str(fileDir+name), str(tarDir+name))\n",
        "if __name__ == '__main__':\n",
        "\tfileDir = \"/content/drive/MyDrive/ML2021-hw6/result2/cutie/\"\n",
        "\ttarDir = '/content/drive/MyDrive/ML2021-hw6/result3/'\n",
        "\tcopyFile(fileDir)"
      ],
      "execution_count": null,
      "outputs": []
    },
    {
      "cell_type": "code",
      "metadata": {
        "id": "aaH1hTChjM35"
      },
      "source": [
        "%cd /content/drive/MyDrive/ML2021-hw6/result3\n",
        "!tar -zcf ../images.tgz *.jpg\n",
        "%cd .."
      ],
      "execution_count": null,
      "outputs": []
    },
    {
      "cell_type": "markdown",
      "metadata": {
        "id": "wHzj9snp9jQC"
      },
      "source": [
        "delete data"
      ]
    },
    {
      "cell_type": "code",
      "metadata": {
        "id": "4eO189UpPmYi"
      },
      "source": [
        "import os\n",
        "count = 0\n",
        "#dir = 'drive/MyDrive/ML2021-hw6/ans/my-project-name'\n",
        "dir = '/content/drive/MyDrive/ML2021-hw6/result3'\n",
        "for file in os.listdir(dir):\n",
        "  if count < 1002:\n",
        "    os.remove(dir + '/' + file)\n",
        "    print(str(file))\n",
        "    count = count + 1"
      ],
      "execution_count": null,
      "outputs": []
    },
    {
      "cell_type": "markdown",
      "metadata": {
        "id": "-7IGDTXnkqIr"
      },
      "source": [
        "# reference"
      ]
    },
    {
      "cell_type": "markdown",
      "metadata": {
        "id": "UCvlZJ1pkuAz"
      },
      "source": [
        "https://arxiv.org/abs/1912.04958\n",
        "\n",
        "https://github.com/lucidrains/stylegan2-pytorch#simple-stylegan2-for-pytorch"
      ]
    }
  ]
}